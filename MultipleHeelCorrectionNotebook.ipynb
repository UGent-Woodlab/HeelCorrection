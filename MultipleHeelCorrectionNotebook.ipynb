{
 "cells": [
  {
   "cell_type": "code",
   "execution_count": 1,
   "id": "b5b9cf44-ffdf-4f8a-9252-7dbc3dec4857",
   "metadata": {},
   "outputs": [],
   "source": [
    "import LUT\n",
    "import os"
   ]
  },
  {
   "cell_type": "code",
   "execution_count": 2,
   "id": "88aac222-4d13-4180-a8fb-45646f557748",
   "metadata": {
    "scrolled": true
   },
   "outputs": [
    {
     "name": "stdout",
     "output_type": "stream",
     "text": [
      "Correcting projection 11 of 11\n",
      "Time elapsed: 0.65 minutes\n",
      "Junip25 done\n"
     ]
    },
    {
     "ename": "KeyboardInterrupt",
     "evalue": "",
     "output_type": "error",
     "traceback": [
      "\u001b[1;31m---------------------------------------------------------------------------\u001b[0m",
      "\u001b[1;31mKeyboardInterrupt\u001b[0m                         Traceback (most recent call last)",
      "Cell \u001b[1;32mIn[2], line 67\u001b[0m\n\u001b[0;32m     64\u001b[0m         scan_dark_file \u001b[38;5;241m=\u001b[39m os\u001b[38;5;241m.\u001b[39mpath\u001b[38;5;241m.\u001b[39mjoin(datafolder, \u001b[38;5;124m'\u001b[39m\u001b[38;5;124mdi000000_000000.tif\u001b[39m\u001b[38;5;124m'\u001b[39m)\n\u001b[0;32m     66\u001b[0m         \u001b[38;5;66;03m# Call the correction function\u001b[39;00m\n\u001b[1;32m---> 67\u001b[0m         LUT\u001b[38;5;241m.\u001b[39mCorrectDatasetExperimentalGPU( \u001b[38;5;66;03m#CorrectNormalizedDatasetExperimentalGPU\u001b[39;00m\n\u001b[0;32m     68\u001b[0m             datafolder \u001b[38;5;241m=\u001b[39m datafolder, \u001b[38;5;66;03m# folder with normalised projections\u001b[39;00m\n\u001b[0;32m     69\u001b[0m             scanprefix \u001b[38;5;241m=\u001b[39m scanprefix, \u001b[38;5;66;03m# prefix of projections without the underscore\u001b[39;00m\n\u001b[0;32m     70\u001b[0m             scan_io_file \u001b[38;5;241m=\u001b[39m scan_io_file, \u001b[38;5;66;03m# IO of scan\u001b[39;00m\n\u001b[0;32m     71\u001b[0m             scan_dark_file \u001b[38;5;241m=\u001b[39m scan_dark_file, \u001b[38;5;66;03m# DI of scan\u001b[39;00m\n\u001b[0;32m     72\u001b[0m             savefolder \u001b[38;5;241m=\u001b[39m savefolder, \u001b[38;5;66;03m# folder were corrected projections should be saved\u001b[39;00m\n\u001b[0;32m     73\u001b[0m             wedge_poly_file \u001b[38;5;241m=\u001b[39m wedge_poly_file, \u001b[38;5;66;03m# the scan of the POM wedge\u001b[39;00m\n\u001b[0;32m     74\u001b[0m             wedge_IO_file \u001b[38;5;241m=\u001b[39m wedge_io_file, \u001b[38;5;66;03m# IO of POM scan\u001b[39;00m\n\u001b[0;32m     75\u001b[0m             wedge_dark_file \u001b[38;5;241m=\u001b[39m wedge_dark_file, \u001b[38;5;66;03m# DI of POM scan\u001b[39;00m\n\u001b[0;32m     76\u001b[0m             a \u001b[38;5;241m=\u001b[39m a, \u001b[38;5;66;03m# horizontal length POM wedge, mm\u001b[39;00m\n\u001b[0;32m     77\u001b[0m             b \u001b[38;5;241m=\u001b[39m b, \u001b[38;5;66;03m# vertical height POM wedge, mm\u001b[39;00m\n\u001b[0;32m     78\u001b[0m             SOD \u001b[38;5;241m=\u001b[39m SOD, \u001b[38;5;66;03m# SOD of POM scan, change to fit wedge, mm\u001b[39;00m\n\u001b[0;32m     79\u001b[0m             SDD \u001b[38;5;241m=\u001b[39m SDD, \u001b[38;5;66;03m# SDD original and POM scan, should be the same! mm\u001b[39;00m\n\u001b[0;32m     80\u001b[0m             detector_height \u001b[38;5;241m=\u001b[39m detector_height, \u001b[38;5;66;03m# pixel height projections\u001b[39;00m\n\u001b[0;32m     81\u001b[0m             detector_width \u001b[38;5;241m=\u001b[39m detector_width, \u001b[38;5;66;03m# pixel width projections\u001b[39;00m\n\u001b[0;32m     82\u001b[0m             LUT_height \u001b[38;5;241m=\u001b[39m LUT_height, \u001b[38;5;66;03m# lookuptable length: a bit more than half of pixel height projections\u001b[39;00m\n\u001b[0;32m     83\u001b[0m             pixelsize \u001b[38;5;241m=\u001b[39m pixelsize, \u001b[38;5;66;03m# size pixels of detector, 0.15 on hector\u001b[39;00m\n\u001b[0;32m     84\u001b[0m             scatter_space_LUT \u001b[38;5;241m=\u001b[39m scatter_space_LUT, \u001b[38;5;66;03m# a bitt less than the pixel height at the top that is air\u001b[39;00m\n\u001b[0;32m     85\u001b[0m             scatter_space_projections \u001b[38;5;241m=\u001b[39m scatter_space_projections, \u001b[38;5;66;03m# pixels at the side that are air\u001b[39;00m\n\u001b[0;32m     86\u001b[0m             height_pitch \u001b[38;5;241m=\u001b[39m height_pitch \u001b[38;5;66;03m# shift in mm down if wedge is not perfectly centered \u001b[39;00m\n\u001b[0;32m     87\u001b[0m         )\n\u001b[0;32m     88\u001b[0m         \u001b[38;5;28mprint\u001b[39m(\u001b[38;5;124mf\u001b[39m\u001b[38;5;124m\"\u001b[39m\u001b[38;5;132;01m{\u001b[39;00mfolder_name\u001b[38;5;132;01m}\u001b[39;00m\u001b[38;5;124m done\u001b[39m\u001b[38;5;124m\"\u001b[39m)\n\u001b[0;32m     91\u001b[0m normalised_folder \u001b[38;5;241m=\u001b[39m os\u001b[38;5;241m.\u001b[39mpath\u001b[38;5;241m.\u001b[39mjoin(parent_folder, \u001b[38;5;124m\"\u001b[39m\u001b[38;5;124mnormalised\u001b[39m\u001b[38;5;124m\"\u001b[39m)\n",
      "File \u001b[1;32m~\\Desktop\\HeelEffect\\Code\\LUT.py:426\u001b[0m, in \u001b[0;36mCorrectDatasetExperimentalGPU\u001b[1;34m(datafolder, scanprefix, scan_io_file, scan_dark_file, savefolder, wedge_poly_file, wedge_IO_file, wedge_dark_file, a, b, SOD, SDD, detector_height, detector_width, LUT_height, pixelsize, scatter_space_LUT, scatter_space_projections, height_pitch)\u001b[0m\n\u001b[0;32m    424\u001b[0m wedge_dark \u001b[38;5;241m=\u001b[39m FH\u001b[38;5;241m.\u001b[39mim2array(wedge_dark_file) \u001b[38;5;66;03m#open dark field\u001b[39;00m\n\u001b[0;32m    425\u001b[0m \u001b[38;5;66;03m#prepare experimental LUT:\u001b[39;00m\n\u001b[1;32m--> 426\u001b[0m wrl, nwp \u001b[38;5;241m=\u001b[39m CreateLUTExperimental(wedge_poly, wedge_io, wedge_dark, a, b, SOD, SDD, detector_height, detector_width, LUT_height, pixelsize, scatter_space_LUT, height_pitch)\n\u001b[0;32m    428\u001b[0m \u001b[38;5;66;03m#copy LUT to the GPU device momory:\u001b[39;00m\n\u001b[0;32m    429\u001b[0m wrl_gpu \u001b[38;5;241m=\u001b[39m cuda\u001b[38;5;241m.\u001b[39mto_device(wrl)\n",
      "File \u001b[1;32m~\\Desktop\\HeelEffect\\Code\\LUT.py:207\u001b[0m, in \u001b[0;36mCreateLUTExperimental\u001b[1;34m(wedge_poly_projection, IO, dark, a, b, SOD, SDD, detector_height, detector_width, LUT_height, pixelsize, scatter_space, height_pitch)\u001b[0m\n\u001b[0;32m    205\u001b[0m   normalized_wedge_poly[:, i] \u001b[38;5;241m=\u001b[39m DenoiseColumn(normalized_wedge_poly[:, i])\n\u001b[0;32m    206\u001b[0m normalized_wedge_poly \u001b[38;5;241m=\u001b[39m normalized_wedge_poly[:LUT_height, :] \u001b[38;5;66;03m#cut unnecessary part of the LUT\u001b[39;00m\n\u001b[1;32m--> 207\u001b[0m wedge_raylengths \u001b[38;5;241m=\u001b[39m ProjectWedge(a, b, SOD, SDD, detector_height, detector_width, pixelsize, height_pitch) \u001b[38;5;66;03m#caclculate projected thickness\u001b[39;00m\n\u001b[0;32m    208\u001b[0m wedge_raylengths \u001b[38;5;241m=\u001b[39m wedge_raylengths[:LUT_height, :] \u001b[38;5;66;03m#cut unnecessary part of LUT\u001b[39;00m\n\u001b[0;32m    209\u001b[0m \u001b[38;5;28;01mreturn\u001b[39;00m wedge_raylengths, normalized_wedge_poly\n",
      "File \u001b[1;32m~\\Desktop\\HeelEffect\\Code\\LUT.py:66\u001b[0m, in \u001b[0;36mProjectWedge\u001b[1;34m(a, b, SOD, SDD, detector_height, detector_width, pixelsize, height_pitch)\u001b[0m\n\u001b[0;32m     63\u001b[0m z1 \u001b[38;5;241m=\u001b[39m SDD\u001b[38;5;241m*\u001b[39mt\n\u001b[0;32m     65\u001b[0m \u001b[38;5;28;01mif\u001b[39;00m z1 \u001b[38;5;241m<\u001b[39m z0 \u001b[38;5;129;01mand\u001b[39;00m x0\u001b[38;5;241m>\u001b[39m\u001b[38;5;241m=\u001b[39m\u001b[38;5;241m-\u001b[39mheight_pitch:\n\u001b[1;32m---> 66\u001b[0m   d \u001b[38;5;241m=\u001b[39m np\u001b[38;5;241m.\u001b[39msqrt((x1\u001b[38;5;241m-\u001b[39mx0)\u001b[38;5;241m*\u001b[39m\u001b[38;5;241m*\u001b[39m\u001b[38;5;241m2\u001b[39m \u001b[38;5;241m+\u001b[39m (y1\u001b[38;5;241m-\u001b[39my0)\u001b[38;5;241m*\u001b[39m\u001b[38;5;241m*\u001b[39m\u001b[38;5;241m2\u001b[39m \u001b[38;5;241m+\u001b[39m (z1\u001b[38;5;241m-\u001b[39mz0)\u001b[38;5;241m*\u001b[39m\u001b[38;5;241m*\u001b[39m\u001b[38;5;241m2\u001b[39m) \u001b[38;5;241m*\u001b[39m \u001b[38;5;241m0.1\u001b[39m \u001b[38;5;66;03m#*0.1 because we need it in cm\u001b[39;00m\n\u001b[0;32m     67\u001b[0m   projection[i, j] \u001b[38;5;241m=\u001b[39m d\n\u001b[0;32m     68\u001b[0m \u001b[38;5;28;01melse\u001b[39;00m:\n",
      "\u001b[1;31mKeyboardInterrupt\u001b[0m: "
     ]
    }
   ],
   "source": [
    " \n",
    "parent_folder = r'\\\\ugctbazaar.ugent.be\\woodlab-cores\\heel cor test' # Define parent folder containing all project folders\n",
    "folderprefix = 'Junip' # prefix of folders to be correcte\n",
    "wedge_folder = 'Heel corr prism 25 - 36' # name of the wolder with the wedge files, should be in the parent folder\n",
    "resolution = 15 # selects the right settings and wedge: 15, 30, or 60\n",
    "height_pitch = 0 # shift in mm down if wedge is not perfectly centered\n",
    "\n",
    "\n",
    "\n",
    "\n",
    "\n",
    "wedge_folder = os.path.join(parent_folder, wedge_folder)\n",
    "wedge_poly_file = os.path.join(wedge_folder, 'Wedge.tif')\n",
    "wedge_io_file = os.path.join(wedge_folder, 'IO.tif')\n",
    "wedge_dark_file = os.path.join(wedge_folder, 'DI.tif')\n",
    "\n",
    "\n",
    "if resolution == 15:\n",
    "    a = 65.09 # horizontal length POM wedge, mm\n",
    "    b = 65.20 # vertical height POM wedge, mm\n",
    "    scatter_space_LUT = 110 # a bitt less than the pixel height at the top of the wedge scan that is air\n",
    "    SOD = 200 # SOD of POM scan, change to fit wedge, mm\n",
    "    SDD = 600 # SDD original and POM scan, should be the same! mm\n",
    "    detector_height = 2856 # pixel height projections\n",
    "    detector_width = 2856 # pixel width projections\n",
    "    LUT_height = 1450 # lookuptable length: a bit more than half of pixel height projections\n",
    "    scatter_space_projections = [5, 25, 5, 2851] # pixels at the side that are air\n",
    "    pixelsize = 0.15 # size pixels of detector, 0.15 on hector\n",
    "\n",
    "elif resolution == 30:\n",
    "    a = 109.2 # horizontal length POM wedge, mm\n",
    "    b = 108.6 # vertical height POM wedge, mm\n",
    "    scatter_space_LUT = 140 # a bitt less than the pixel height at the top of the wedge scan that is air\n",
    "    SOD = 340 # SOD of POM scan, change to fit wedge, mm\n",
    "    SDD = 600 # SDD original and POM scan, should be the same! mm\n",
    "    detector_height = 2856 # pixel height projections\n",
    "    detector_width = 2856 # pixel width projections\n",
    "    LUT_height = 1450 # lookuptable length: a bit more than half of pixel height projections\n",
    "    scatter_space_projections = [5, 90, 5, 2851] # pixels at the side that are air\n",
    "    pixelsize = 0.15 # size pixels of detector, 0.15 on hector\n",
    "\n",
    "elif resolution == 60:\n",
    "    a = 109.2 # horizontal length POM wedge, mm\n",
    "    b = 108.6 # vertical height POM wedge, mm\n",
    "    scatter_space_LUT = 70 # a bitt less than the pixel height at the top of the wedge scan that is air\n",
    "    SOD = 340 # SOD of POM scan, change to fit wedge, mm\n",
    "    SDD = 600 # SDD original and POM scan, should be the same! mm\n",
    "    detector_height = 1428 # pixel height projections\n",
    "    detector_width = 1428 # pixel width projections\n",
    "    LUT_height = 1400 # lookuptable length: a bit more than half of pixel height projections\n",
    "    scatter_space_projections = [2, 45, 5, 1423] # pixels at the side that are air\n",
    "    pixelsize = 0.3 # size pixels of detector, 0.15 on hector, 0.3 in binning 2\n",
    "\n",
    "\n",
    "# Loop through all correctly formatted folders\n",
    "for folder_name in os.listdir(parent_folder):\n",
    "    folder_path = os.path.join(parent_folder, folder_name)\n",
    "    if os.path.isdir(folder_path) and folder_name.startswith(folderprefix):\n",
    "        # Define paths specific to this folder\n",
    "        scanprefix = folder_name  # Prefix based on folder name\n",
    "        datafolder = folder_path\n",
    "        savefolder = os.path.join(parent_folder, f\"{folder_name}_corrected\")\n",
    "        \n",
    "        scan_io_file = os.path.join(datafolder, 'io000000_000000.tif')\n",
    "        scan_dark_file = os.path.join(datafolder, 'di000000_000000.tif')\n",
    "\n",
    "        # Call the correction function\n",
    "        LUT.CorrectDatasetExperimentalGPU( #CorrectNormalizedDatasetExperimentalGPU\n",
    "            datafolder = datafolder, # folder with normalised projections\n",
    "            scanprefix = scanprefix, # prefix of projections without the underscore\n",
    "            scan_io_file = scan_io_file, # IO of scan\n",
    "            scan_dark_file = scan_dark_file, # DI of scan\n",
    "            savefolder = savefolder, # folder were corrected projections should be saved\n",
    "            wedge_poly_file = wedge_poly_file, # the scan of the POM wedge\n",
    "            wedge_IO_file = wedge_io_file, # IO of POM scan\n",
    "            wedge_dark_file = wedge_dark_file, # DI of POM scan\n",
    "            a = a, # horizontal length POM wedge, mm\n",
    "            b = b, # vertical height POM wedge, mm\n",
    "            SOD = SOD, # SOD of POM scan, change to fit wedge, mm\n",
    "            SDD = SDD, # SDD original and POM scan, should be the same! mm\n",
    "            detector_height = detector_height, # pixel height projections\n",
    "            detector_width = detector_width, # pixel width projections\n",
    "            LUT_height = LUT_height, # lookuptable length: a bit more than half of pixel height projections\n",
    "            pixelsize = pixelsize, # size pixels of detector, 0.15 on hector\n",
    "            scatter_space_LUT = scatter_space_LUT, # a bitt less than the pixel height at the top that is air\n",
    "            scatter_space_projections = scatter_space_projections, # pixels at the side that are air\n",
    "            height_pitch = height_pitch # shift in mm down if wedge is not perfectly centered \n",
    "        )\n",
    "        print(f\"{folder_name} done\")\n",
    "\n",
    "\n",
    "normalised_folder = os.path.join(parent_folder, \"normalised\")\n",
    "os.makedirs(normalised_folder, exist_ok=True) \n",
    "print(f\"All folders done\")\n",
    "\n",
    "\n"
   ]
  },
  {
   "cell_type": "code",
   "execution_count": null,
   "id": "df74666e-952d-471e-8660-f6593a6c434d",
   "metadata": {},
   "outputs": [],
   "source": []
  },
  {
   "cell_type": "code",
   "execution_count": null,
   "id": "01c02311-1049-4a5e-85e9-01debabfa6bf",
   "metadata": {},
   "outputs": [],
   "source": []
  },
  {
   "cell_type": "code",
   "execution_count": null,
   "id": "ee2b0a4f-35c7-4d42-8fd6-298303e173ba",
   "metadata": {},
   "outputs": [],
   "source": []
  }
 ],
 "metadata": {
  "kernelspec": {
   "display_name": "Python 3 (ipykernel)",
   "language": "python",
   "name": "python3"
  },
  "language_info": {
   "codemirror_mode": {
    "name": "ipython",
    "version": 3
   },
   "file_extension": ".py",
   "mimetype": "text/x-python",
   "name": "python",
   "nbconvert_exporter": "python",
   "pygments_lexer": "ipython3",
   "version": "3.11.7"
  }
 },
 "nbformat": 4,
 "nbformat_minor": 5
}
