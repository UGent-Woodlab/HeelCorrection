{
 "cells": [
  {
   "cell_type": "code",
   "execution_count": 1,
   "id": "b5b9cf44-ffdf-4f8a-9252-7dbc3dec4857",
   "metadata": {},
   "outputs": [],
   "source": [
    "import LUT"
   ]
  },
  {
   "cell_type": "code",
   "execution_count": 2,
   "id": "88aac222-4d13-4180-a8fb-45646f557748",
   "metadata": {
    "scrolled": true
   },
   "outputs": [
    {
     "name": "stdout",
     "output_type": "stream",
     "text": [
      "3860.6704194545746ion 16327 of 16327\n"
     ]
    }
   ],
   "source": [
    "scanprefix = 'Junip25' # prefix of projections without the underscore\n",
    "datafolder = r'D:\\Users\\labo\\Lverschuren\\Junip25'\n",
    "savefolder = r'D:\\Users\\labo\\Lverschuren\\Junip25_normalised_heelcorrected'\n",
    "wedge_folder = r'D:\\Users\\labo\\Lverschuren\\Heel corr prism 25 - 36'\n",
    "\n",
    "resolution = 15 # EDIT! selects the right settings and wedge: 15, 30, or 60\n",
    "height_pitch = 0 # shift in mm down if wedge is not perfectly centered\n",
    "\n",
    "\n",
    "\n",
    "\n",
    "\n",
    "wedge_poly_file = wedge_folder + '\\\\' + 'Wedge.tif'\n",
    "wedge_io_file = wedge_folder + '\\\\' + 'IO.tif'\n",
    "wedge_dark_file = wedge_folder + '\\\\' + 'DI.tif'\n",
    "\n",
    "scan_io_file = datafolder + '\\\\' + 'io000000_000000.tif'\n",
    "scan_dark_file = datafolder + '\\\\' + 'di000000_000000.tif'\n",
    "\n",
    "if resolution == 15:\n",
    "    a = 65.09 # horizontal length POM wedge, mm\n",
    "    b = 65.20 # vertical height POM wedge, mm\n",
    "    scatter_space_LUT = 110 # a bitt less than the pixel height at the top of the wedge scan that is air\n",
    "    SOD = 200 # SOD of POM scan, change to fit wedge, mm\n",
    "    SDD = 600 # SDD original and POM scan, should be the same! mm\n",
    "    detector_height = 2856 # pixel height projections\n",
    "    detector_width = 2856 # pixel width projections\n",
    "    LUT_height = 1450 # lookuptable length: a bit more than half of pixel height projections\n",
    "    scatter_space_projections = [5, 25, 5, 2851] # pixels at the side that are air\n",
    "    pixelsize = 0.15 # size pixels of detector, 0.15 on hector\n",
    "\n",
    "\n",
    "elif resolution == 30:\n",
    "    a = 109.2 # horizontal length POM wedge, mm\n",
    "    b = 108.6 # vertical height POM wedge, mm\n",
    "    scatter_space_LUT = 140 # a bitt less than the pixel height at the top of the wedge scan that is air\n",
    "    SOD = 340 # SOD of POM scan, change to fit wedge, mm\n",
    "    SDD = 600 # SDD original and POM scan, should be the same! mm\n",
    "    detector_height = 2856 # pixel height projections\n",
    "    detector_width = 2856 # pixel width projections\n",
    "    LUT_height = 1450 # lookuptable length: a bit more than half of pixel height projections\n",
    "    scatter_space_projections = [5, 90, 5, 2851] # pixels at the side that are air\n",
    "    pixelsize = 0.15 # size pixels of detector, 0.15 on hector\n",
    "\n",
    "\n",
    "elif resolution == 60:\n",
    "    a = 109.2 # horizontal length POM wedge, mm\n",
    "    b = 108.6 # vertical height POM wedge, mm\n",
    "    scatter_space_LUT = 70 # a bitt less than the pixel height at the top of the wedge scan that is air\n",
    "    SOD = 340 # SOD of POM scan, change to fit wedge, mm\n",
    "    SDD = 600 # SDD original and POM scan, should be the same! mm\n",
    "    detector_height = 1428 # pixel height projections\n",
    "    detector_width = 1428 # pixel width projections\n",
    "    LUT_height = 1400 # lookuptable length: a bit more than half of pixel height projections\n",
    "    scatter_space_projections = [2, 45, 5, 1423] # pixels at the side that are air\n",
    "    pixelsize = 0.3 # size pixels of detector, 0.15 on hector, 0.3 in binning 2\n",
    "\n",
    "\n",
    "\n",
    "\n",
    "\n",
    "LUT.CorrectDatasetExperimentalGPU( #CorrectNormalizedDatasetExperimentalGPU\n",
    "    datafolder = datafolder, # folder with normalised projections\n",
    "    scanprefix = scanprefix, # prefix of projections without the underscore\n",
    "    scan_io_file = scan_io_file, # IO of scan\n",
    "    scan_dark_file = scan_dark_file, # DI of scan\n",
    "    savefolder = savefolder, # folder were corrected projections should be saved\n",
    "    wedge_poly_file = wedge_poly_file, # the scan of the POM wedge\n",
    "    wedge_IO_file = wedge_io_file, # IO of POM scan\n",
    "    wedge_dark_file = wedge_dark_file, # DI of POM scan\n",
    "    a = a, # horizontal length POM wedge, mm\n",
    "    b = b, # vertical height POM wedge, mm\n",
    "    SOD = SOD, # SOD of POM scan, change to fit wedge, mm\n",
    "    SDD = SDD, # SDD original and POM scan, should be the same! mm\n",
    "    detector_height = detector_height, # pixel height projections\n",
    "    detector_width = detector_width, # pixel width projections\n",
    "    LUT_height = LUT_height, # lookuptable length: a bit more than half of pixel height projections\n",
    "    pixelsize = pixelsize, # size pixels of detector, 0.15 on hector\n",
    "    scatter_space_LUT = scatter_space_LUT, # a bitt less than the pixel height at the top that is air\n",
    "    scatter_space_projections = scatter_space_projections, # pixels at the side that are air\n",
    "    height_pitch = height_pitch # shift in mm down if wedge is not perfectly centered \n",
    ")\n"
   ]
  },
  {
   "cell_type": "code",
   "execution_count": null,
   "id": "df74666e-952d-471e-8660-f6593a6c434d",
   "metadata": {},
   "outputs": [],
   "source": []
  },
  {
   "cell_type": "code",
   "execution_count": null,
   "id": "01c02311-1049-4a5e-85e9-01debabfa6bf",
   "metadata": {},
   "outputs": [],
   "source": []
  },
  {
   "cell_type": "code",
   "execution_count": null,
   "id": "ee2b0a4f-35c7-4d42-8fd6-298303e173ba",
   "metadata": {},
   "outputs": [],
   "source": []
  }
 ],
 "metadata": {
  "kernelspec": {
   "display_name": "Python 3 (ipykernel)",
   "language": "python",
   "name": "python3"
  },
  "language_info": {
   "codemirror_mode": {
    "name": "ipython",
    "version": 3
   },
   "file_extension": ".py",
   "mimetype": "text/x-python",
   "name": "python",
   "nbconvert_exporter": "python",
   "pygments_lexer": "ipython3",
   "version": "3.11.7"
  }
 },
 "nbformat": 4,
 "nbformat_minor": 5
}
